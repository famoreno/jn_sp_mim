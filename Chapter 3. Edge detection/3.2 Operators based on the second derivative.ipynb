{
  "cells": [
    {
      "metadata": {},
      "cell_type": "markdown",
      "source": "# 3.2 Edge detection -- Operators based on the second derivative\n\nThere are more advanced methods for edge detection than those based on the first-derivative.  This notebook covers some second-derivative based methods ike:\n\n- Laplace operator\n- LoG operator\n- Canny algorithm\n\nWe will not implement those operators because they are more complex and it may take some time. Luckily, they are already implemented in openCV (`cv2.Laplacian` and  `cv2.Canny`) and we will used them in this notebook.\n\n## Problem context - Edge detection for medical images\n\nUnfortunately, you were not accepted (yet!) by the researching team at *Hospital Clínico* because the obtained results in the previous notebook were not as good as expected. Anyway, they have shown you the algorithms that they are currently using so you can study it for future interviews. Let's have a look!\n\n<img src=\"./images/hired.jpg\" width=\"400\">"
    },
    {
      "metadata": {
        "trusted": true
      },
      "cell_type": "code",
      "source": "import numpy as np\nimport cv2\nimport matplotlib.pyplot as plt\nimport matplotlib\nfrom ipywidgets import interact, fixed, widgets\nmatplotlib.rcParams['figure.figsize'] = (15.0, 15.0)\n\nimages_path = './images/'",
      "execution_count": 6,
      "outputs": []
    },
    {
      "metadata": {},
      "cell_type": "markdown",
      "source": "### Laplace and LoG operators \n\n\n\nCompared with the first derivative-based edge detectors such as the Sobel operator, the Laplacian operator may yield better results in edge localization.  \n\n#### Implementation\n\nA first derivative is used (openCV uses Sobel but any is valid): $\\\\[5pt]$\n\n$$\\frac{\\partial f(x,y)}{\\partial x} \\approx f(i+1,j) - f(i,j) \\\\[5pt]$$\n\n$$\\frac{\\partial f(x,y)}{\\partial y} \\approx f(i,j+1) - f(i,j) \\\\[5pt]$$\n\nThen, take second derivatives:\n\n$$g = \\frac{\\partial f^2}{\\partial x^2} \\approx f(i+1,j) - 2f(i,j) + f(i-1,j) \\\\[5pt]$$\n\n$$h = \\frac{\\partial f^2}{\\partial y^2} \\approx f(i,j+1) - 2f(i,j) + f(i,j-1) \\\\[10pt]$$\n\nFinally, apply distributive property of convolution:\n\n<img src=\"./images/laplace.png\" width=\"300\">\n\nUnfortunately, although the Laplacian operator would give us as a result a 1-pixel width edge, it is very sensitive to noise! Solution: If the image is blurred using a Gaussian filter before applying the Laplace operator, we can partially solve the noise problem. In this case, it is called **LoG** (Laplace of Gaussian).\n\n\n**<span style=\"color:red\">EXERCISE 3.2.1 -- </span>** First, complete the function **gaussian_smoothing** that blur an image using a Gaussian filter. Then, normalizes it and returns the resulting image."
    },
    {
      "metadata": {
        "trusted": true
      },
      "cell_type": "code",
      "source": "# EX_3.2.1\n# Implement a function that blurres an input image using a Gaussian filter and then normalizes it.\ndef gaussian_smoothing(image, sigma, w_kernel):\n    \"\"\" Blur and normalize input image.   \n    \n        Args:\n            image: Input image to be blurred\n            sigma: Standard deviation of the Gaussian distribution\n            w_kernel: Kernel aperture size\n                    \n        Returns: \n            normalized: Normalized, blurred image\n    \"\"\"   \n    # Write your code here!",
      "execution_count": 2,
      "outputs": []
    },
    {
      "metadata": {},
      "cell_type": "markdown",
      "source": "Now, we are going to see the differences between the Laplace and LoG operators. \n\n**<span style=\"color:red\">EXERCISE 3.2.2 -- </span>** Implement the function **laplace_testing** that applies the Laplacian operator to the input image and to a blurred version of the input image (use the previously implemented function). Display both images along with the original one in a 1x3 plot. Use as inputs: an image, the size of the Laplacian filter (should be odd), and the parameters of the gaussian filter as input.\n\nNote that it would possible to reduce the computation time if LoG would be precomputed. This is convolving Laplace and Gaussian filters instead of applying them separatelly.\n\n*Tip: openCV defines the Laplace operator as [cv2.Laplacian()](https://docs.opencv.org/3.4/d5/db5/tutorial_laplace_operator.html)*"
    },
    {
      "metadata": {
        "trusted": true
      },
      "cell_type": "code",
      "source": "# EX_3.2.2\n# Implement a function that applies the Laplacian operator to the input image and to a blurred version of it. \n# Display a 1x3 plot with the original image and the two resulting edge images.\n# Inputs: image, size of the Laplacian kernel, sigma and size of the Gaussian kernel\ndef laplace_testing(image, size_Laplacian, sigma, w_gaussian):\n    \"\"\" Apply Laplacian and Log operators to an image.   \n    \n        Args:\n            image: Input image to be binarized\n            size_Laplacian: size of Laplacian kernel (odd)\n            sigma: Standard deviation of the Gaussian distribution\n            w_gaussian: Gaussian kernel aperture size\n    \"\"\"  \n    # Write your code here!",
      "execution_count": 11,
      "outputs": []
    },
    {
      "metadata": {},
      "cell_type": "markdown",
      "source": "**What to do?** Try this method and play with interactive parameters.$\\\\[5pt]$      \nAfter that, **answer following questions**:\n\n- Can be Laplacian applied without a previous blurring?\n- What would be needed for obtaining the edges from those images?\n\n**<span style=\"color:blue\">(Answer these questions here!)</span>**"
    },
    {
      "metadata": {
        "trusted": true
      },
      "cell_type": "code",
      "source": "# Read an image\nimage = cv2.imread(images_path + 'medical_3.jpg', 0)\n\n# Interact with the parameters!\ninteract(laplace_testing, image=fixed(image), size_Laplacian=(1,7,2), sigma=(1,3,0.1), w_gaussian=(1,3,1))",
      "execution_count": 12,
      "outputs": [
        {
          "output_type": "display_data",
          "data": {
            "application/vnd.jupyter.widget-view+json": {
              "model_id": "384d3074782a477b9288724a37901173",
              "version_minor": 0,
              "version_major": 2
            },
            "text/plain": "interactive(children=(IntSlider(value=3, description='size_Laplacian', max=7, min=1, step=2), FloatSlider(valu…"
          },
          "metadata": {}
        },
        {
          "output_type": "execute_result",
          "execution_count": 12,
          "data": {
            "text/plain": "<function __main__.laplace_testing>"
          },
          "metadata": {}
        }
      ]
    },
    {
      "metadata": {},
      "cell_type": "markdown",
      "source": "### Canny algorithm\n\nThe Canny edge detector is an algorithm that applies the DroG operator, non-maxima suppression and hysteresis for edge detection in images.\n\nSteps:\n\n1. Filter out any noise using a Gaussian filter.$\\\\[5pt]$\n\n2. Apply the DroG operator.$\\\\[5pt]$\n\n3. *Non-maximum suppression* is applied. This removes pixels that are not considered to be part of an edge. Typically, the gradient image obtained after using DroG presents *thick* edges. The idea is to keep only those pixels that are maximum within their neighborhood in the gradient direction, supressing the rest of them. Hence, only thin lines (candidate edges) will remain.$\\\\[5pt]$\n\n<img src=\"./images/canny_nonmaxima.png\" width=\"800\">\n\n4. *Hysteresis*: The final step. Canny uses two thresholds (upper and lower) to determine edge pixels:\n\n   - If the grey level of a candidate pixel of the gradient image is higher than the upper threshold, the pixel is accepted as an edge. \n   - If the grey level of a candidate pixel of the gradient image is below the lower threshold, then it is rejected. \n   - If the grey level of a candidate pixel of the gradient image is between the two thresholds, then it will be accepted only if it is connected to a pixel that is above the upper threshold and rejected otherwise.\n   \n<img src=\"./images/hysteresis.png\" width=\"800\">\n   \n**<span style=\"color:red\">EXERCISE 3.2.3 -- </span>** Complete **canny_testing**, which applies the Canny algorithm to an image and to that image but previously blurred *(note that openCV Canny's implementation does not apply Gaussian blurring)*. Then both are displayed along the original image. It takes an image, both lower and upper Canny thresholds, and the parameters of the Gaussian filter as input.\n\n*Tip: openCV defines canny algorithm as [cv2.Canny()](https://docs.opencv.org/2.4/modules/imgproc/doc/feature_detection.html?highlight=canny)*"
    },
    {
      "metadata": {
        "trusted": true
      },
      "cell_type": "code",
      "source": "# EX_3.2.3\n# Implement a function that applies the Canny operator to an input image and to a blurred version of it. \n# Display a 1x3 plot with the original image and the two resulting edge images.\n# Inputs: image, size of the Laplacian kernel, sigma and size of the Gaussian kernel\ndef canny_testing(image, lower_threshold, upper_threshold, sigma, w_gaussian):\n    \"\"\" Apply Canny algorithm to an image.   \n    \n        Args:\n            image: Input image to be binarized\n            lower_threshold: bottom value for hysteresis\n            upper_threshold: top value for hysteresis\n            sigma: Standard deviation of the Gaussian distribution\n            w_gaussian: Gaussian kernel aperture size\n    \"\"\"  \n    # Write your code here!",
      "execution_count": 13,
      "outputs": []
    },
    {
      "metadata": {},
      "cell_type": "markdown",
      "source": "**What to do?** Try this method and play with interactive parameters.$\\\\[5pt]$      \nAfter that, **answer following questions**:\n- Can be Canny applied without a previous blurring?\n- What is a *good* value for both thresholds"
    },
    {
      "metadata": {
        "trusted": true
      },
      "cell_type": "code",
      "source": "# Read an image\nimage = cv2.imread(images_path + 'medical_2.jpg', 0)\n\n# Interact with the parameters\ninteract(canny_testing, image=fixed(image), lower_threshold=(0,260,20), upper_threshold=(0,260,20), sigma=(1,3,0.1), w_gaussian=(1,3,1))",
      "execution_count": 14,
      "outputs": [
        {
          "output_type": "display_data",
          "data": {
            "application/vnd.jupyter.widget-view+json": {
              "model_id": "b44046bb82984477a2cadabb4b14b049",
              "version_minor": 0,
              "version_major": 2
            },
            "text/plain": "interactive(children=(IntSlider(value=120, description='lower_threshold', max=260, step=20), IntSlider(value=1…"
          },
          "metadata": {}
        },
        {
          "output_type": "execute_result",
          "execution_count": 14,
          "data": {
            "text/plain": "<function __main__.canny_testing>"
          },
          "metadata": {}
        }
      ]
    },
    {
      "metadata": {},
      "cell_type": "markdown",
      "source": "## Conclusion\n\nTerrific! You finished this notebook, that includes information about\n\n- Laplace (and LoG) operator and the importance of smoothing.\n- how to use the Canny algorithm, and how it is implemented.\n\n**Extra**\n\nThe Canny algorithm is a very known algorithm in the field, it is used in a lot of current technologies. Although it still gets very good results, the original paper was published in 1986 by John Canny. \n\nIf you have curiosity about the original paper, you can download it [here](https://www.google.com/url?sa=t&rct=j&q=&esrc=s&source=web&cd=10&ved=2ahUKEwiU9uyiganoAhWNDWMBHducCvsQFjAJegQIBhAB&url=http%3A%2F%2Fciteseerx.ist.psu.edu%2Fviewdoc%2Fdownload%3Fdoi%3D10.1.1.420.3300%26rep%3Drep1%26type%3Dpdf&usg=AOvVaw3tsKoxnc3qnS7bji3HmvQc)."
    }
  ],
  "metadata": {
    "kernelspec": {
      "name": "python3",
      "display_name": "Python 3",
      "language": "python"
    },
    "language_info": {
      "mimetype": "text/x-python",
      "nbconvert_exporter": "python",
      "name": "python",
      "file_extension": ".py",
      "version": "3.5.4",
      "pygments_lexer": "ipython3",
      "codemirror_mode": {
        "version": 3,
        "name": "ipython"
      }
    },
    "varInspector": {
      "cols": {
        "lenName": 16,
        "lenType": 16,
        "lenVar": 40
      },
      "kernels_config": {
        "python": {
          "delete_cmd_postfix": "",
          "delete_cmd_prefix": "del ",
          "library": "var_list.py",
          "varRefreshCmd": "print(var_dic_list())"
        },
        "r": {
          "delete_cmd_postfix": ") ",
          "delete_cmd_prefix": "rm(",
          "library": "var_list.r",
          "varRefreshCmd": "cat(var_dic_list()) "
        }
      },
      "types_to_exclude": [
        "module",
        "function",
        "builtin_function_or_method",
        "instance",
        "_Feature"
      ],
      "window_display": false
    }
  },
  "nbformat": 4,
  "nbformat_minor": 4
}