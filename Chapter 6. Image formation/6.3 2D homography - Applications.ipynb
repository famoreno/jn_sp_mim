{
  "cells": [
    {
      "metadata": {},
      "cell_type": "markdown",
      "source": "# 6.3 2D Homographies - Applications\n\nNow you are familiar with homographies, this notebook proposes two more applications in sports where using this technique enhances the experience of viewer. You are asked to implement a solution for each one. As you already know the fundamentals of the homography computation, this notebook will not address any theoretical aspect, but only presents the applications and asks for your solutions!\n\n### Some notes on the implementation\n- If you use the command `%matplotlib notebook`, you'll be able to get the coordinates on the image at the mouse position. Use this **in each cell** when you need to select points on the images.\n- Take into account that when you are computing a homography you are mapping image coordinates to *real world* coordinates (those in the real, unwarped plane), so if the latter are too small you will end up with a very small unwarped image. This will make more difficult to get references in such a small image. In some way, you are *losing resolution*. So, when creating the coordinates of the unwarped planes, use a value (factor) to multiply the real coordinates so that you get an image large enough to pick up points properly."
    },
    {
      "metadata": {
        "trusted": true
      },
      "cell_type": "code",
      "source": "import numpy as np\nimport cv2\nimport matplotlib\nimport matplotlib.pyplot as plt\n\nmatplotlib.rcParams['figure.figsize'] = (12.0, 6.0)\n\n# set image path\nimages_path = './images/'\n\n# This will allow you to see the pixel position where the mouse is pointing\n%matplotlib notebook",
      "execution_count": null,
      "outputs": []
    },
    {
      "metadata": {},
      "cell_type": "markdown",
      "source": "## 6.3.1 Application 1: Long jump competiton\n\nThe *Olympics committee* has a special work for you: to develop a computer vision program able to decide if a jump is valid (the jumper has not overstepped the plasticine board) and the distance from the step to this plasticine board.\n\nThe following image shows the parts of the zone where the jumper has to take-off: the **take-off board** (with a width of 20cm), the **take-off line** (included in the take-off board) and the **plasticine indicator** (10cm width). In total, the area of this zone is **30x122cm**.\n\n<img src=\"./images/take_off_zone.png\" width=\"300\">$\\\\[5pt]$\n\nThe *Olympics committee* wants you to evaluate your software using a number of provided images, named `long_jump_0.png` to `lon_jump_4.png`, which are annotated with the distance from the jumper sneaker tip to the beginning of the plasticine indicator. With this goal, implement a code that:\n- Computes the homography between the take-off zone in the images and a rectangle with the real size (30x122cm).\n- Select manually the point at the jumper sneaker tip in the zone without perspective.\n- Having that coordinate, computes and reports the distance from it to the plasticine indicator. \n\nIs this distance the same as the provided one in the images?"
    },
    {
      "metadata": {
        "trusted": true,
        "scrolled": false
      },
      "cell_type": "code",
      "source": "matplotlib.rcParams['figure.figsize'] = (12.0, 6.0)\n%matplotlib notebook\n\n# APPLICATION 1: Long jump competition\n# Write your code here",
      "execution_count": null,
      "outputs": []
    },
    {
      "metadata": {},
      "cell_type": "markdown",
      "source": "## 6.3.2 Application 2: Offside detection\n\n*LaLiga* has also called to our offices asking for a software to help the VAR and to draw a line at the position of the last defender in a soccer match, making easier in this way to decide if a player was offside. \n\n<img src=\"./images/offside.jpg\" width=\"600\">$\\\\[5pt]$\n\nTo fulfill this requirement, develop a code that uses the `offside.jpg` image and:\n- Removes the perspective of the penalty area. The size of this area is 16.5x40.3m. Use the provided image offside.jpg for that.\n- Queries you to point at the position of the last defender.\n- Draws a line in the initial image crossing that position.\n\nNow you have the right tools, could you tell whether the goal by Luis Suarez goal is legal?"
    },
    {
      "metadata": {
        "trusted": true
      },
      "cell_type": "code",
      "source": "matplotlib.rcParams['figure.figsize'] = (12.0, 6.0)\n%matplotlib notebook\n\n# APPLICATION 2: Offside detection\n# Write your code here",
      "execution_count": null,
      "outputs": []
    }
  ],
  "metadata": {
    "kernelspec": {
      "name": "python3",
      "display_name": "Python 3",
      "language": "python"
    },
    "language_info": {
      "mimetype": "text/x-python",
      "nbconvert_exporter": "python",
      "name": "python",
      "file_extension": ".py",
      "version": "3.5.4",
      "pygments_lexer": "ipython3",
      "codemirror_mode": {
        "version": 3,
        "name": "ipython"
      }
    },
    "varInspector": {
      "cols": {
        "lenName": 16,
        "lenType": 16,
        "lenVar": 40
      },
      "kernels_config": {
        "python": {
          "delete_cmd_postfix": "",
          "delete_cmd_prefix": "del ",
          "library": "var_list.py",
          "varRefreshCmd": "print(var_dic_list())"
        },
        "r": {
          "delete_cmd_postfix": ") ",
          "delete_cmd_prefix": "rm(",
          "library": "var_list.r",
          "varRefreshCmd": "cat(var_dic_list()) "
        }
      },
      "types_to_exclude": [
        "module",
        "function",
        "builtin_function_or_method",
        "instance",
        "_Feature"
      ],
      "window_display": false
    }
  },
  "nbformat": 4,
  "nbformat_minor": 4
}