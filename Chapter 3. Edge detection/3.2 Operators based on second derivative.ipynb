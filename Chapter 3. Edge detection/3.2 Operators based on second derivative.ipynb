{
 "cells": [
  {
   "cell_type": "markdown",
   "metadata": {},
   "source": [
    "# 3.2 Operators based on second derivative\n",
    "\n",
    "There are more advanced methods for edge detection than first-derivative based.  This notebook covers some second-derivative based methods ike:\n",
    "\n",
    "- LaPlace operator\n",
    "- LoG operator\n",
    "- Canny algorithm\n",
    "\n",
    "We will not implement those operators because they are more complex and it may take some time. Luckily, they are implemented in openCV (`cv2.Laplacian` and  `cv2.Canny`). \n",
    "\n",
    "## Problem context - Edge detection for medical images\n",
    "\n",
    "Unfortunately, you were not accepted by researching team at Hospital Clínico because results were not as good as you expected. Anyway, they show you the algorithms that they are currently using so you can study it for next interview.\n",
    "\n",
    "<img src=\"./images/hired.jpg\" width=\"400\">"
   ]
  },
  {
   "cell_type": "code",
   "execution_count": 5,
   "metadata": {},
   "outputs": [],
   "source": [
    "import numpy as np\n",
    "import cv2\n",
    "import matplotlib.pyplot as plt\n",
    "import matplotlib\n",
    "from ipywidgets import interact, fixed, widgets\n",
    "matplotlib.rcParams['figure.figsize'] = (15.0, 15.0)\n",
    "\n",
    "images_path = './images/'"
   ]
  },
  {
   "cell_type": "markdown",
   "metadata": {},
   "source": [
    "### Laplace and LoG operators \n",
    "\n",
    "\n",
    "\n",
    "Compared with the first derivative-based edge detectors such as Sobel operator, the Laplacian operator may yield better results in edge localization.  \n",
    "\n",
    "#### Implementation\n",
    "\n",
    "A first derivative is used (openCV uses Sobel but any is valid): $\\\\[5pt]$\n",
    "\n",
    "$$\\frac{\\partial f(x,y)}{\\partial x} = f(i+1,j) - f(i,j) \\\\[5pt]$$\n",
    "\n",
    "$$\\frac{\\partial f(x,y)}{\\partial y} = f(i,j+1) - f(i,j) \\\\[5pt]$$\n",
    "\n",
    "Then, take second derivatives:\n",
    "\n",
    "$$g = \\frac{\\partial f^2}{\\partial x^2} = f(i+1,j) - 2f(i,j) + f(i-1,j) \\\\[5pt]$$\n",
    "\n",
    "$$h = \\frac{\\partial f^2}{\\partial y^2} = f(i,j+1) - 2f(i,j) + f(i,j-1) \\\\[10pt]$$\n",
    "\n",
    "Finally, apply distributive property of convolution:\n",
    "\n",
    "<img src=\"./images/laplace.png\" width=\"300\">\n",
    "\n",
    "Unfortunately, the Laplacian operator is very sensitive to noise. If image is blurred using a Gaussian filter before applying Laplace operator, it is called **LoG** (Laplace of Gaussian).\n",
    "\n",
    "\n",
    "**What to do?** First, complete the function **gaussian_smoothing** that blur an image using a Gaussian filter. Then, normalizes and returns resulting image."
   ]
  },
  {
   "cell_type": "code",
   "execution_count": 6,
   "metadata": {},
   "outputs": [],
   "source": [
    "def gaussian_smoothing(image, sigma, w_kernel):\n",
    "    \"\"\" Blur and normalize input image.   \n",
    "    \n",
    "        Args:\n",
    "            image: Input image to be binarized\n",
    "            sigma: Standard deviation of the Gaussian distribution\n",
    "            w_kernel: Kernel aperture size\n",
    "                    \n",
    "        Returns: \n",
    "            binarized: Blurred image\n",
    "    \"\"\"   \n",
    "    \n",
    "    # Define 1D kernel\n",
    "    s=sigma\n",
    "    w=w_kernel\n",
    "    kernel_1D = [np.exp(-z*z/(2*s*s))/np.sqrt(2*np.pi*s*s) for z in range(-w,w+1)]\n",
    "    \n",
    "    # Apply distributive property of convolution\n",
    "    kernel_2D = np.outer(kernel_1D,kernel_1D)\n",
    "    \n",
    "    # Blur image\n",
    "    smoothed_img = cv2.filter2D(image,cv2.CV_8U,kernel_2D)\n",
    "    \n",
    "    # Normalize to [0 254] values\n",
    "    smoothed_norm = np.array(image.shape)\n",
    "    smoothed_norm = cv2.normalize(smoothed_img,None, 0, 255, cv2.NORM_MINMAX)\n",
    "    \n",
    "    return smoothed_norm"
   ]
  },
  {
   "cell_type": "markdown",
   "metadata": {},
   "source": [
    "Now, we are going to see the differences between Laplace operator and LoG. \n",
    "\n",
    "**Your job is to** complete **laplace_testing** that applies Laplacian operator to an image and to the previously blurred image. Then both are displayed along the original image. It takes an image, the size of the Laplacian filter (odd), and parameters of the gaussian filter as input.\n",
    "\n",
    "Note that it is possible to reduce computation time if LoG is precomputed. This is convolving Laplace and Gaussian filters instead of applying them separatelly.\n",
    "\n",
    "*Tip: openCV defines Laplace operator as [cv2.Laplacian()](https://docs.opencv.org/3.4/d5/db5/tutorial_laplace_operator.html)*"
   ]
  },
  {
   "cell_type": "code",
   "execution_count": 7,
   "metadata": {},
   "outputs": [],
   "source": [
    "def laplace_testing(image, size_Laplacian, sigma, w_gaussian):\n",
    "    \"\"\" Apply Laplacian and Log operators to an image.   \n",
    "    \n",
    "        Args:\n",
    "            image: Input image to be binarized\n",
    "            size_Laplacian: size of Laplacian kernel (odd)\n",
    "            sigma: Standard deviation of the Gaussian distribution\n",
    "            w_gaussian: Gaussian kernel aperture size\n",
    "    \"\"\"  \n",
    "    \n",
    "    # Blur image\n",
    "    blurred_img = gaussian_smoothing(image, sigma, w_gaussian)\n",
    "    \n",
    "    # Apply Laplacian to original image\n",
    "    laplacian = cv2.Laplacian(image, cv2.CV_16S, ksize=size_Laplacian)\n",
    "    \n",
    "    # Aplay Laplacian to blurred image\n",
    "    laplacian_blurred = cv2.Laplacian(blurred_img, cv2.CV_16S, ksize=size_Laplacian)\n",
    "    \n",
    "    # Show initial image\n",
    "    plt.subplot(131)\n",
    "    plt.imshow(image, cmap='gray')\n",
    "    plt.title('Original image')\n",
    "    \n",
    "    # Show laplacian\n",
    "    plt.subplot(132)\n",
    "    plt.imshow(laplacian, cmap='gray')\n",
    "    plt.title('Laplacian without blurring')\n",
    "    \n",
    "    # Show LoG\n",
    "    plt.subplot(133)\n",
    "    plt.imshow(laplacian_blurred, cmap='gray')\n",
    "    plt.title('Laplacian blurred (LoG)')"
   ]
  },
  {
   "cell_type": "markdown",
   "metadata": {},
   "source": [
    "**What to do?** Try this method and play with interactive parameters.$\\\\[5pt]$      \n",
    "After that, **answer following questions**:\n",
    "\n",
    "- Can be Laplacian applied without a previous blurring?\n",
    "- What would be needed for obtaining the edges from those images?"
   ]
  },
  {
   "cell_type": "code",
   "execution_count": 8,
   "metadata": {},
   "outputs": [
    {
     "data": {
      "application/vnd.jupyter.widget-view+json": {
       "model_id": "1b1f15bcc3a946a98a13ca0e03884d15",
       "version_major": 2,
       "version_minor": 0
      },
      "text/plain": [
       "interactive(children=(IntSlider(value=3, description='size_Laplacian', max=7, min=1, step=2), FloatSlider(valu…"
      ]
     },
     "metadata": {},
     "output_type": "display_data"
    },
    {
     "data": {
      "text/plain": [
       "<function __main__.laplace_testing(image, size_Laplacian, sigma, w_gaussian)>"
      ]
     },
     "execution_count": 8,
     "metadata": {},
     "output_type": "execute_result"
    }
   ],
   "source": [
    "image = cv2.imread(images_path + 'medical_3.jpg', 0)\n",
    "interact(laplace_testing, image=fixed(image), size_Laplacian=(1,7,2), sigma=(1,3,0.1), w_gaussian=(1,3,1))"
   ]
  },
  {
   "cell_type": "markdown",
   "metadata": {},
   "source": [
    "### Canny algorithm\n",
    "\n",
    "Canny edge detector is an algorithm that applies DroG operator, non-maxima suppression and hysteresis for edge detection in images.\n",
    "\n",
    "Steps:\n",
    "\n",
    "1. Filter out any noise. The Gaussian filter is used for this purpose.$\\\\[5pt]$\n",
    "\n",
    "2. Apply DroG.$\\\\[5pt]$\n",
    "\n",
    "3. *Non-maximum suppression* is applied. This removes pixels that are not considered to be part of an edge. Hence, only thin lines (candidate edges) will remain. For this, get the maximum of the neighbors pixels in the gradient direction.$\\\\[5pt]$\n",
    "\n",
    "<img src=\"./images/canny_nonmaxima.png\" width=\"800\">\n",
    "\n",
    "4. *Hysteresis*: The final step. Canny does use two thresholds (upper and lower):\n",
    "\n",
    "   - If a pixel gradient is higher than the upper threshold, the pixel is accepted as an edge. \n",
    "   - If a pixel gradient value is below the lower threshold, then it is rejected. \n",
    "   - If the pixel gradient is between the two thresholds, then it will be accepted only if it is connected to a pixel that is above the upper threshold.\n",
    "   \n",
    "<img src=\"./images/hysteresis.png\" width=\"800\">\n",
    "   \n",
    "**What to do?** Complete **canny_testing**, that applies Canny algorithm to an image and to that image but previously blurred *(note that openCV Canny's implementation does not apply Gaussian blurring)*. Then both are displayed along the original image. It takes an image, both lower and upper Canny thresholds, and parameters of the gaussian filter as input.\n",
    "\n",
    "*Tip: openCV defines canny algorithm as [cv2.Canny()](https://docs.opencv.org/2.4/modules/imgproc/doc/feature_detection.html?highlight=canny)*"
   ]
  },
  {
   "cell_type": "code",
   "execution_count": 9,
   "metadata": {},
   "outputs": [],
   "source": [
    "def canny_testing(image, lower_threshold, upper_threshold, sigma, w_gaussian):\n",
    "    \"\"\" Apply Canny algorithm to an image.   \n",
    "    \n",
    "        Args:\n",
    "            image: Input image to be binarized\n",
    "            lower_threshold: bottom value for hysteresis\n",
    "            upper_threshold: top value for hysteresis\n",
    "            sigma: Standard deviation of the Gaussian distribution\n",
    "            w_gaussian: Gaussian kernel aperture size\n",
    "    \"\"\"  \n",
    "    \n",
    "    # Blur image\n",
    "    blurred_img = gaussian_smoothing(image,sigma,w_gaussian)\n",
    "    \n",
    "    # Apply Canny to original image\n",
    "    canny = cv2.Canny(image,lower_threshold,upper_threshold)\n",
    "    \n",
    "    # Apply Canny to blurred image\n",
    "    canny_blurred = cv2.Canny(blurred_img,lower_threshold,upper_threshold)\n",
    "\n",
    "    # Show initial image\n",
    "    plt.subplot(131)\n",
    "    plt.imshow(image, cmap='gray')\n",
    "    plt.title('Original image')\n",
    "    \n",
    "    # Show Canny without blurring\n",
    "    plt.subplot(132)\n",
    "    plt.imshow(canny, cmap='gray')\n",
    "    plt.title('Canny without blurring')\n",
    "    \n",
    "    # Show Canny with blurring\n",
    "    plt.subplot(133)\n",
    "    plt.imshow(canny_blurred, cmap='gray')\n",
    "    plt.title('Canny blurred')"
   ]
  },
  {
   "cell_type": "markdown",
   "metadata": {},
   "source": [
    "**What to do?** Try this method and play with interactive parameters.$\\\\[5pt]$      \n",
    "After that, **answer following questions**:\n",
    "- Can be Canny applied without a previous blurring?\n",
    "- What is a *good* value for both thresholds"
   ]
  },
  {
   "cell_type": "code",
   "execution_count": 10,
   "metadata": {},
   "outputs": [
    {
     "data": {
      "application/vnd.jupyter.widget-view+json": {
       "model_id": "9914dcd188f149f2afb583c41e2a1fad",
       "version_major": 2,
       "version_minor": 0
      },
      "text/plain": [
       "interactive(children=(IntSlider(value=120, description='lower_threshold', max=260, step=20), IntSlider(value=1…"
      ]
     },
     "metadata": {},
     "output_type": "display_data"
    },
    {
     "data": {
      "text/plain": [
       "<function __main__.canny_testing(image, lower_threshold, upper_threshold, sigma, w_gaussian)>"
      ]
     },
     "execution_count": 10,
     "metadata": {},
     "output_type": "execute_result"
    }
   ],
   "source": [
    "image = cv2.imread(images_path + 'medical_2.jpg', 0)\n",
    "interact(canny_testing, image=fixed(image), lower_threshold=(0,260,20), upper_threshold=(0,260,20), sigma=(1,3,0.1), w_gaussian=(1,3,1))"
   ]
  },
  {
   "cell_type": "markdown",
   "metadata": {},
   "source": [
    "## Conclusion\n",
    "\n",
    "Terrific! You finished this notebook, that includes information about\n",
    "\n",
    "- Laplace operator and the importance of smoothing.\n",
    "- how to use canny alorithm, and how it is implemented.\n",
    "\n",
    "**Extra**\n",
    "\n",
    "Canny algorithm is a very known algorithm in the field, it is used in a lot of current technologies. Although it gets very good results, original paper was published in 1986 by John Canny. \n",
    "\n",
    "If you have curiosity about the original paper, you can download it [here](https://www.google.com/url?sa=t&rct=j&q=&esrc=s&source=web&cd=10&ved=2ahUKEwiU9uyiganoAhWNDWMBHducCvsQFjAJegQIBhAB&url=http%3A%2F%2Fciteseerx.ist.psu.edu%2Fviewdoc%2Fdownload%3Fdoi%3D10.1.1.420.3300%26rep%3Drep1%26type%3Dpdf&usg=AOvVaw3tsKoxnc3qnS7bji3HmvQc)."
   ]
  }
 ],
 "metadata": {
  "kernelspec": {
   "display_name": "Python 3",
   "language": "python",
   "name": "python3"
  },
  "language_info": {
   "codemirror_mode": {
    "name": "ipython",
    "version": 3
   },
   "file_extension": ".py",
   "mimetype": "text/x-python",
   "name": "python",
   "nbconvert_exporter": "python",
   "pygments_lexer": "ipython3",
   "version": "3.6.9"
  },
  "varInspector": {
   "cols": {
    "lenName": 16,
    "lenType": 16,
    "lenVar": 40
   },
   "kernels_config": {
    "python": {
     "delete_cmd_postfix": "",
     "delete_cmd_prefix": "del ",
     "library": "var_list.py",
     "varRefreshCmd": "print(var_dic_list())"
    },
    "r": {
     "delete_cmd_postfix": ") ",
     "delete_cmd_prefix": "rm(",
     "library": "var_list.r",
     "varRefreshCmd": "cat(var_dic_list()) "
    }
   },
   "types_to_exclude": [
    "module",
    "function",
    "builtin_function_or_method",
    "instance",
    "_Feature"
   ],
   "window_display": false
  }
 },
 "nbformat": 4,
 "nbformat_minor": 4
}
