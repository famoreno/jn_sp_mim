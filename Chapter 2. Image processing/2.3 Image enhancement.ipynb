{
  "cells": [
    {
      "metadata": {},
      "cell_type": "markdown",
      "source": "# 2.3 Image enhancement\n\nImage enhancement is the process of adjusting digital images so that the results are more suitable for display or further image analysis.\n\nA tool for image enhancement has already been implemented, this is **linear look-up tables** in 2.1 notebook. In this lesson we will experiment with:\n\n- Non-linear look-up tables\n- Histogram equalization\n\nAlso, some color-space conversions are going to be needed. If you are not familiar with YCrCb color space, notebook number 2 in **Appendices** contains some information about it.\n\n## Problem context - Some Photoshop techniques\n\n<img src=\"./images/ps.png\" width=\"200\">\n\nAdobe Photoshop is software that is extensively used for raster image editing, graphic design and digital art. It makes use of layering to allow for depth and flexibility in the design and editing process, as well as provide powerful editing tools that, when combined, are capable of just about anything. \n\n**It is also an extreme powerful tool for image processing**. There are thousands of image processing methods implemented that people use all the time. From simple tools for cropping images to complex tools for blurring or refining edges.\n\nToday, we are going to develop and test two methods that are implemented in Adobe Photoshop: [**gamma**](https://www.techwalla.com/articles/how-to-adjust-gamma-in-photoshop) and [**equalize**](https://www.dpreview.com/forums/thread/2160198)."
    },
    {
      "metadata": {
        "trusted": true
      },
      "cell_type": "code",
      "source": "import numpy as np\nimport cv2\nimport matplotlib.pyplot as plt\nimport matplotlib\nfrom ipywidgets import interact, fixed, widgets\nmatplotlib.rcParams['figure.figsize'] = (20.0, 20.0)\n\nimages_path = './images/'",
      "execution_count": 1,
      "outputs": []
    },
    {
      "metadata": {},
      "cell_type": "markdown",
      "source": "### Non-linear look-up tables\n\n**Gamma** or **gamma correction** \n\n> Gamma correction, or often simply gamma, is a nonlinear operation used to encode and decode luminance or tristimulus values in video or still image systems. \n\n<img src=\"./images/gamma_theory.jpg\" width=\"800\" >\n\nIn short, what we should know about [**gamma**](https://www.techwalla.com/articles/how-to-adjust-gamma-in-photoshop) is that it is the application of an already defined **non-linear LUT** in order to stretch or shrink image intensities.\n\n$\\hspace{2cm}$ Gamma LUT definition for grayscale images $i \\in $ [0-255]:\n\n$$lut(i) = (\\frac{i}{255})^{\\gamma} * 255, \\ \\gamma \\gt 0 $$\n\n**<span style=\"color:red\">EXERCISE 2.3.1 -- </span>** Your task is to develop a fucntion called **lut_chart**, which is going to be used for testing reasons. \n\nThis method takes an image and a gamma value as input and will display a 2x2 plot containing the original image, the gamma-corrected image, the used LUT and the image histogram (after gamma correction).\n\nAs photoshop users we will use color images, so you will have to **implement it for color images**. This can be done transforming **BGR image to YCrCb image**. Then, applying gamma LUT **only** to first band of YCrCb image (because it contains pixel intensities and you can handle it like a gray image). Then, as matplotlib display RGB images it should be **reconverted back**."
    },
    {
      "metadata": {
        "trusted": true
      },
      "cell_type": "code",
      "source": "# EX_2.3.1\n# Implement a function that:\n# -- converts the input image from the BGR to the YCrCb color space\n# -- creates the gamma LUT\n# -- applies the LUT to the original image\n# -- displays in a 2x2 plot: the input image, the gamma-corrected one, the applied LUT and the resultant histogram\ndef lut_chart(image, gamma):\n    \"\"\" Applies gamma correction to an image and shows the result.   \n    \n        Args:\n            image: Input image\n            gamma: Gamma parameter\n    \"\"\"\n    # Write your code here!",
      "execution_count": 2,
      "outputs": []
    },
    {
      "metadata": {},
      "cell_type": "markdown",
      "source": "Now, **you are asked to** try **lut_chart** with `gamma_1.jpg` (underexposed image) and `gamma_2.jpeg` (overexposed image).  \nThen, **answer the following question**:\n\n- What is happening when gamma value is modified?\n\n**<span style=\"color:blue\">(Answer this question here!)</span>**"
    },
    {
      "metadata": {
        "trusted": true
      },
      "cell_type": "code",
      "source": "# Create widget object\ngamma_widget = widgets.FloatSlider(value=1, min=0.1, max=5, step=0.2, description='Gamma:')\n\n#Read image\nimage = cv2.imread(images_path + 'gamma_2.jpeg',-1)\n\n#Interact with your code!\ninteract(lut_chart, image=fixed(image), gamma=gamma_widget)",
      "execution_count": 3,
      "outputs": [
        {
          "output_type": "display_data",
          "data": {
            "application/vnd.jupyter.widget-view+json": {
              "model_id": "09f7f8e8b766487085b26e695e59604e",
              "version_minor": 0,
              "version_major": 2
            },
            "text/plain": "interactive(children=(FloatSlider(value=1.0, description='Gamma:', max=5.0, min=0.1, step=0.2), Output()), _do…"
          },
          "metadata": {}
        },
        {
          "output_type": "execute_result",
          "execution_count": 3,
          "data": {
            "text/plain": "<function __main__.lut_chart>"
          },
          "metadata": {}
        }
      ]
    },
    {
      "metadata": {},
      "cell_type": "markdown",
      "source": "### Histogram equalization\n\n> Histogram Equalization is a computer image processing technique used to improve contrast in images. It accomplishes this by effectively spreading out the most frequent intensity values, i.e. stretching out the intensity range of the image. This method usually increases the global contrast of images when its usable data is represented by close contrast values. This allows for areas of lower local contrast to gain a higher contrast.\n\n<img src=\"./images/equalization.png\" width=\"300\" />$\\\\[5pt]$\n\nSo what [**equalize**](https://www.dpreview.com/forums/thread/2160198) method does is histogram equalization. But.. how is this equalization achieved?\n\n- First we have to calculate the PMF ([probability mass function](https://en.wikipedia.org/wiki/Probability_mass_function)) of all the pixels in this image. Basically, this is a normalization of the histogram.\n\n- Next step involves calculation of CDF ([cumulative distributive function](https://en.wikipedia.org/wiki/Cumulative_distribution_function)). Getting the LUT for histogram equalization.\n\n- Finally, apply obtained LUT. $\\\\[10pt]$\n\n<img src=\"./images/equalize_theory.png\" width=\"600\" />$\\\\[5pt]$\n\n**<span style=\"color:red\">EXERCISE 2.3.2 -- </span>** Similarly to the previous exercise, **you are asked to** develop a function called **equalize_chart**. This method takes a **color** imag and will display a plot containing the original image, the equalized image, the original image histogram and the equalized image histogram.\n\n*Tip: openCV implements histogram equalization in [cv2.equalizeHist](https://docs.opencv.org/2.4/modules/imgproc/doc/histograms.html?highlight=equalizehist)*\n\n"
    },
    {
      "metadata": {
        "trusted": true
      },
      "cell_type": "code",
      "source": "# EX_2.3.2\n# Implement a function that:\n# -- converts the input image from the BGR to the YCrCb color space\n# -- applies the histogram equalization\n# -- displays in a 2x2 plot: the input image, the equalized one, the original histogram and the equalized one\ndef equalize_chart(image):\n    \"\"\" Applies histogram equalization to an image and shows the result.   \n    \n        Args:\n            image: Input image\n    \"\"\"    \n    # Write your code here!",
      "execution_count": 4,
      "outputs": []
    },
    {
      "metadata": {},
      "cell_type": "markdown",
      "source": "**You are asked to** try  **equalize_chart** with `park.png`  \nThen, **answer following questions**:\n- What is the difference between the original histogram and the equalized?\n- Is the final histogram uniform?\n\n**<span style=\"color:blue\">(Answer these questions here!)</span>**"
    },
    {
      "metadata": {
        "trusted": true
      },
      "cell_type": "code",
      "source": "# Read image\nimage = cv2.imread(images_path + 'park.png',-1)\n# Equalize its histogram\nequalize_chart(image)",
      "execution_count": 5,
      "outputs": []
    },
    {
      "metadata": {},
      "cell_type": "markdown",
      "source": "## Conclusion\n\nGreat! We hope that next time you use photoshop you have another point of view of how things works.\n\nIn conclusion, in this notebook you have learn:\n\n- How to define gamma correction LUT and to appy it to an image.\n- How histogram equalization works and its applications."
    }
  ],
  "metadata": {
    "kernelspec": {
      "name": "python3",
      "display_name": "Python 3",
      "language": "python"
    },
    "language_info": {
      "mimetype": "text/x-python",
      "nbconvert_exporter": "python",
      "name": "python",
      "pygments_lexer": "ipython3",
      "version": "3.5.4",
      "file_extension": ".py",
      "codemirror_mode": {
        "version": 3,
        "name": "ipython"
      }
    },
    "varInspector": {
      "cols": {
        "lenName": 16,
        "lenType": 16,
        "lenVar": 40
      },
      "kernels_config": {
        "python": {
          "delete_cmd_postfix": "",
          "delete_cmd_prefix": "del ",
          "library": "var_list.py",
          "varRefreshCmd": "print(var_dic_list())"
        },
        "r": {
          "delete_cmd_postfix": ") ",
          "delete_cmd_prefix": "rm(",
          "library": "var_list.r",
          "varRefreshCmd": "cat(var_dic_list()) "
        }
      },
      "types_to_exclude": [
        "module",
        "function",
        "builtin_function_or_method",
        "instance",
        "_Feature"
      ],
      "window_display": false
    }
  },
  "nbformat": 4,
  "nbformat_minor": 4
}